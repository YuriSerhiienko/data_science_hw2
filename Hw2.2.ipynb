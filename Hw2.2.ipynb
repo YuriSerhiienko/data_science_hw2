{
  "nbformat": 4,
  "nbformat_minor": 0,
  "metadata": {
    "colab": {
      "provenance": [],
      "mount_file_id": "1tarLyAnVC0JXkq43M_PI-5twrpm3PEU4",
      "authorship_tag": "ABX9TyPewH6IquEkct4gI3HQSeq8",
      "include_colab_link": true
    },
    "kernelspec": {
      "name": "python3",
      "display_name": "Python 3"
    },
    "language_info": {
      "name": "python"
    }
  },
  "cells": [
    {
      "cell_type": "markdown",
      "metadata": {
        "id": "view-in-github",
        "colab_type": "text"
      },
      "source": [
        "<a href=\"https://colab.research.google.com/github/YuriSerhiienko/data_science_hw2/blob/main/Hw2.2.ipynb\" target=\"_parent\"><img src=\"https://colab.research.google.com/assets/colab-badge.svg\" alt=\"Open In Colab\"/></a>"
      ]
    },
    {
      "cell_type": "code",
      "execution_count": 2,
      "metadata": {
        "id": "Q_X-HeZIP1kV"
      },
      "outputs": [],
      "source": [
        "#Прочитайте файл 2017_jun_final.csv за допомогою методу read_csv\n",
        "import pandas as pd\n",
        "data = pd.read_csv('2017_jun_final.csv')"
      ]
    },
    {
      "cell_type": "code",
      "source": [
        "#Прочитайте отриману таблицю, використовуючи метод head\n",
        "print(data.head())"
      ],
      "metadata": {
        "id": "19p3dTbKRlca"
      },
      "execution_count": null,
      "outputs": []
    },
    {
      "cell_type": "code",
      "source": [
        "#Визначте розмір таблиці за допомогою методу shape\n",
        "print(data.shape)"
      ],
      "metadata": {
        "colab": {
          "base_uri": "https://localhost:8080/"
        },
        "id": "2_IPAJBNR4Uz",
        "outputId": "c5fcb86d-336c-4326-f4a0-cdd8920433a9"
      },
      "execution_count": 8,
      "outputs": [
        {
          "output_type": "stream",
          "name": "stdout",
          "text": [
            "(8704, 20)\n"
          ]
        }
      ]
    },
    {
      "cell_type": "code",
      "source": [
        "#Визначте типи всіх стовпців за допомогою dataframe.dtypes\n",
        "print(data.dtypes)"
      ],
      "metadata": {
        "colab": {
          "base_uri": "https://localhost:8080/"
        },
        "id": "sAnM1uVWSFHv",
        "outputId": "60d82255-16e6-48bd-90eb-d531ebe70491"
      },
      "execution_count": 5,
      "outputs": [
        {
          "output_type": "stream",
          "name": "stdout",
          "text": [
            "N                                     int64\n",
            "Должность                            object\n",
            "Язык.программирования                object\n",
            "Специализация                        object\n",
            "Общий.опыт.работы                    object\n",
            "Опыт.работы.на.текущем.месте         object\n",
            "Зарплата.в.месяц                      int64\n",
            "Изменение.зарплаты.за.12.месяцев      int64\n",
            "Город                                object\n",
            "Размер.компании                      object\n",
            "Тип.компании                         object\n",
            "Пол                                  object\n",
            "Возраст                               int64\n",
            "Образование                          object\n",
            "Университет                          object\n",
            "Еще.студент                            bool\n",
            "Уровень.английского                  object\n",
            "Предметная.область                   object\n",
            "Дата.заполнения                      object\n",
            "User.Agent                           object\n",
            "exp                                 float64\n",
            "current_job_exp                     float64\n",
            "salary                                int64\n",
            "Валюта                               object\n",
            "cls                                  object\n",
            "dtype: object\n"
          ]
        }
      ]
    },
    {
      "cell_type": "code",
      "source": [
        "#Порахуйте, яка частка пропусків міститься в кожній колонці (використовуйте методи isnull та sum)\n",
        "missing_values_proportion = data.isnull().sum() / len(data)\n",
        "print(missing_values_proportion)\n"
      ],
      "metadata": {
        "colab": {
          "base_uri": "https://localhost:8080/"
        },
        "id": "WHbYF1eMSGWd",
        "outputId": "7e45847b-04c3-4413-fd4f-9668047da34a"
      },
      "execution_count": 15,
      "outputs": [
        {
          "output_type": "stream",
          "name": "stdout",
          "text": [
            "N                                   0.0\n",
            "Должность                           0.0\n",
            "Язык.программирования               0.0\n",
            "Общий.опыт.работы                   0.0\n",
            "Опыт.работы.на.текущем.месте        0.0\n",
            "Зарплата.в.месяц                    0.0\n",
            "Изменение.зарплаты.за.12.месяцев    0.0\n",
            "Город                               0.0\n",
            "Размер.компании                     0.0\n",
            "Тип.компании                        0.0\n",
            "Пол                                 0.0\n",
            "Возраст                             0.0\n",
            "Образование                         0.0\n",
            "Еще.студент                         0.0\n",
            "Уровень.английского                 0.0\n",
            "Дата.заполнения                     0.0\n",
            "User.Agent                          0.0\n",
            "exp                                 0.0\n",
            "current_job_exp                     0.0\n",
            "salary                              0.0\n",
            "dtype: float64\n"
          ]
        }
      ]
    },
    {
      "cell_type": "code",
      "source": [
        "#Видаліть усі стовпці з пропусками, крім стовпця \"Мова програмування\"\n",
        "data = data.drop(columns=data.columns[(data.isnull().sum() > 0) & (data.columns != 'Язык.программирования')])\n"
      ],
      "metadata": {
        "id": "Gws-MmctSJN2"
      },
      "execution_count": 7,
      "outputs": []
    },
    {
      "cell_type": "code",
      "source": [
        "#Знову порахуйте, яка частка пропусків міститься в кожній колонці і переконайтеся, що залишився тільки стовпець \"Мова.програмування\"\n",
        "print(data.isnull().sum() / len(data))"
      ],
      "metadata": {
        "colab": {
          "base_uri": "https://localhost:8080/"
        },
        "id": "jzDNGu5mSKEH",
        "outputId": "6b3db5dd-d810-49cd-8153-9e8c30883c96"
      },
      "execution_count": 9,
      "outputs": [
        {
          "output_type": "stream",
          "name": "stdout",
          "text": [
            "N                                   0.000000\n",
            "Должность                           0.000000\n",
            "Язык.программирования               0.442325\n",
            "Общий.опыт.работы                   0.000000\n",
            "Опыт.работы.на.текущем.месте        0.000000\n",
            "Зарплата.в.месяц                    0.000000\n",
            "Изменение.зарплаты.за.12.месяцев    0.000000\n",
            "Город                               0.000000\n",
            "Размер.компании                     0.000000\n",
            "Тип.компании                        0.000000\n",
            "Пол                                 0.000000\n",
            "Возраст                             0.000000\n",
            "Образование                         0.000000\n",
            "Еще.студент                         0.000000\n",
            "Уровень.английского                 0.000000\n",
            "Дата.заполнения                     0.000000\n",
            "User.Agent                          0.000000\n",
            "exp                                 0.000000\n",
            "current_job_exp                     0.000000\n",
            "salary                              0.000000\n",
            "dtype: float64\n"
          ]
        }
      ]
    },
    {
      "cell_type": "code",
      "source": [
        "#Видаліть усі рядки у вихідній таблиці за допомогою методу dropna\n",
        "data = data.dropna()"
      ],
      "metadata": {
        "id": "QN9it8HXSMF-"
      },
      "execution_count": 10,
      "outputs": []
    },
    {
      "cell_type": "code",
      "source": [
        "#Визначте новий розмір таблиці за допомогою методу shape\n",
        "print(data.shape)\n"
      ],
      "metadata": {
        "colab": {
          "base_uri": "https://localhost:8080/"
        },
        "id": "DHYw5qzQSM_I",
        "outputId": "0d49b911-3848-4f30-800e-5a33cc207c0e"
      },
      "execution_count": 11,
      "outputs": [
        {
          "output_type": "stream",
          "name": "stdout",
          "text": [
            "(4854, 20)\n"
          ]
        }
      ]
    },
    {
      "cell_type": "code",
      "source": [
        "#Створіть нову таблицю python_data, в якій будуть тільки рядки зі спеціалістами, які вказали мову програмування Python\n",
        "python_data = data[data['Язык.программирования'].str.contains('Python', na=False)]\n"
      ],
      "metadata": {
        "id": "1BFAxBAUSN1w"
      },
      "execution_count": 12,
      "outputs": []
    },
    {
      "cell_type": "code",
      "source": [
        "#Визначте розмір таблиці python_data за допомогою методу shape\n",
        "print(python_data.shape)\n"
      ],
      "metadata": {
        "colab": {
          "base_uri": "https://localhost:8080/"
        },
        "id": "701X8fXLSOn2",
        "outputId": "bb8964b2-ccb7-41e2-bd0d-1486d31e4990"
      },
      "execution_count": 13,
      "outputs": [
        {
          "output_type": "stream",
          "name": "stdout",
          "text": [
            "(207, 20)\n"
          ]
        }
      ]
    },
    {
      "cell_type": "code",
      "source": [
        "#Використовуючи метод groupby, виконайте групування за стовпчиком \"Посада\"\n",
        "#Створіть новий DataFrame, де для згрупованих даних за стовпчиком \"Посада\", виконайте агрегацію даних за допомогою методу agg і знайдіть мінімальне та максимальне значення у стовпчику \"Зарплата.в.місяць\"\n",
        "position_salary_stats = data.groupby('Должность')['Зарплата.в.месяц'].agg(['min', 'max'])\n"
      ],
      "metadata": {
        "id": "lTHY0SDXSQgX"
      },
      "execution_count": 17,
      "outputs": []
    },
    {
      "cell_type": "code",
      "source": [
        "#Створіть функцію fill_avg_salary, яка повертатиме середнє значення заробітної плати на місяць. Використовуйте її для методу apply та створіть новий стовпчик \"avg\"\n",
        "def fill_avg_salary(row, stats):\n",
        "    return (stats.loc[row['Должность'], 'min'] + stats.loc[row['Должность'], 'max']) / 2\n",
        "\n",
        "data['avg'] = data.apply(fill_avg_salary, stats=position_salary_stats, axis=1)"
      ],
      "metadata": {
        "id": "WECMjD5CSRS3"
      },
      "execution_count": 20,
      "outputs": []
    },
    {
      "cell_type": "code",
      "source": [
        "#Створіть описову статистику за допомогою методу describe для нового стовпчика.\n",
        "print(data['avg'].describe())"
      ],
      "metadata": {
        "colab": {
          "base_uri": "https://localhost:8080/"
        },
        "id": "8xMw-Jq7SSHv",
        "outputId": "30324242-bc81-4281-ebd0-ad4419c2c3a6"
      },
      "execution_count": 21,
      "outputs": [
        {
          "output_type": "stream",
          "name": "stdout",
          "text": [
            "count    4854.000000\n",
            "mean     3551.619798\n",
            "std      1829.772793\n",
            "min       492.500000\n",
            "25%      1337.500000\n",
            "50%      3550.000000\n",
            "75%      4775.000000\n",
            "max      9250.000000\n",
            "Name: avg, dtype: float64\n"
          ]
        }
      ]
    },
    {
      "cell_type": "code",
      "source": [
        "#Збережіть отриману таблицю в CSV файл\n",
        "data.to_csv('оновлені_дані.csv', index=False)"
      ],
      "metadata": {
        "id": "L5yXhuzQSS6G"
      },
      "execution_count": 22,
      "outputs": []
    }
  ]
}