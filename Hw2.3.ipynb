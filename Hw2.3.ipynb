{
  "nbformat": 4,
  "nbformat_minor": 0,
  "metadata": {
    "colab": {
      "provenance": [],
      "authorship_tag": "ABX9TyPsf0HbY2mY3Jquz5udmraw",
      "include_colab_link": true
    },
    "kernelspec": {
      "name": "python3",
      "display_name": "Python 3"
    },
    "language_info": {
      "name": "python"
    }
  },
  "cells": [
    {
      "cell_type": "markdown",
      "metadata": {
        "id": "view-in-github",
        "colab_type": "text"
      },
      "source": [
        "<a href=\"https://colab.research.google.com/github/YuriSerhiienko/data_science_hw2/blob/main/Hw2.3.ipynb\" target=\"_parent\"><img src=\"https://colab.research.google.com/assets/colab-badge.svg\" alt=\"Open In Colab\"/></a>"
      ]
    },
    {
      "cell_type": "code",
      "execution_count": 1,
      "metadata": {
        "id": "fJeDJuayqejW"
      },
      "outputs": [],
      "source": [
        "import pandas as pd\n",
        "books_df = pd.read_csv('bestsellers with categories.csv')"
      ]
    },
    {
      "cell_type": "code",
      "source": [
        "books_df.columns = ['name', 'author', 'user_rating', 'reviews', 'price', 'year', 'genre']"
      ],
      "metadata": {
        "id": "9S10T9LcrdrZ"
      },
      "execution_count": null,
      "outputs": []
    },
    {
      "cell_type": "code",
      "source": [
        "print(books_df.isnull().sum())"
      ],
      "metadata": {
        "colab": {
          "base_uri": "https://localhost:8080/"
        },
        "id": "bu8s7lQtrfkH",
        "outputId": "1d647c79-f34a-495d-edaf-c73d53f6840e"
      },
      "execution_count": 2,
      "outputs": [
        {
          "output_type": "stream",
          "name": "stdout",
          "text": [
            "Name           0\n",
            "Author         0\n",
            "User Rating    0\n",
            "Reviews        0\n",
            "Price          0\n",
            "Year           0\n",
            "Genre          0\n",
            "dtype: int64\n"
          ]
        }
      ]
    },
    {
      "cell_type": "code",
      "source": [
        "print(books_df['Genre'].unique())"
      ],
      "metadata": {
        "colab": {
          "base_uri": "https://localhost:8080/"
        },
        "id": "AP2wr4-KriHo",
        "outputId": "adcba933-ca45-40d4-e9c4-e624e68a9086"
      },
      "execution_count": 4,
      "outputs": [
        {
          "output_type": "stream",
          "name": "stdout",
          "text": [
            "['Non Fiction' 'Fiction']\n"
          ]
        }
      ]
    },
    {
      "cell_type": "code",
      "source": [
        "books_df['Price'].plot(kind='hist')"
      ],
      "metadata": {
        "colab": {
          "base_uri": "https://localhost:8080/",
          "height": 447
        },
        "id": "pTOmoeXSrp65",
        "outputId": "7a8fc0e4-d28f-4bad-ecf6-e232926a2c8c"
      },
      "execution_count": 6,
      "outputs": [
        {
          "output_type": "execute_result",
          "data": {
            "text/plain": [
              "<Axes: ylabel='Frequency'>"
            ]
          },
          "metadata": {},
          "execution_count": 6
        },
        {
          "output_type": "display_data",
          "data": {
            "text/plain": [
              "<Figure size 640x480 with 1 Axes>"
            ],
            "image/png": "[encoded data removed]"
          },
          "metadata": {}
        }
      ]
    },
    {
      "cell_type": "code",
      "source": [
        "print('Максимальна ціна:', books_df['Price'].max())\n",
        "print('Мінімальна ціна:', books_df['Price'].min())\n",
        "print('Середня ціна:', books_df['Price'].mean())\n",
        "print('Медіанна ціна:', books_df['Price'].median())\n"
      ],
      "metadata": {
        "colab": {
          "base_uri": "https://localhost:8080/"
        },
        "id": "PNnNQBeIrv5x",
        "outputId": "e1605b18-0f99-42a0-b27f-950cb30f119f"
      },
      "execution_count": 7,
      "outputs": [
        {
          "output_type": "stream",
          "name": "stdout",
          "text": [
            "Максимальна ціна: 105\n",
            "Мінімальна ціна: 0\n",
            "Середня ціна: 13.1\n",
            "Медіанна ціна: 11.0\n"
          ]
        }
      ]
    },
    {
      "cell_type": "code",
      "source": [
        "max_rating = books_df['User Rating'].max()\n",
        "print('Найвищий рейтинг:', max_rating)\n"
      ],
      "metadata": {
        "colab": {
          "base_uri": "https://localhost:8080/"
        },
        "id": "TRmJsc-Kr3In",
        "outputId": "9a7e64cd-dd5b-4685-eec6-5e109983f516"
      },
      "execution_count": 9,
      "outputs": [
        {
          "output_type": "stream",
          "name": "stdout",
          "text": [
            "Найвищий рейтинг: 4.9\n"
          ]
        }
      ]
    },
    {
      "cell_type": "code",
      "source": [
        "max_rating_count = books_df[books_df['User Rating'] == max_rating].shape[0]\n",
        "print('Кількість книг з найвищим рейтингом:', max_rating_count)\n"
      ],
      "metadata": {
        "colab": {
          "base_uri": "https://localhost:8080/"
        },
        "id": "YNmnWOTysXKz",
        "outputId": "4f3dcdc7-e0f4-4815-f1bd-1389631b253b"
      },
      "execution_count": 11,
      "outputs": [
        {
          "output_type": "stream",
          "name": "stdout",
          "text": [
            "Кількість книг з найвищим рейтингом: 52\n"
          ]
        }
      ]
    },
    {
      "cell_type": "code",
      "source": [
        "most_reviewed_book = books_df[books_df['Reviews'] == books_df['Reviews'].max()]['Name'].iloc[0]\n",
        "print('Книга з найбільшою кількістю відгуків:', most_reviewed_book)\n"
      ],
      "metadata": {
        "colab": {
          "base_uri": "https://localhost:8080/"
        },
        "id": "587htsf_sar0",
        "outputId": "ad133e53-dfe6-4c07-adcc-82967b225366"
      },
      "execution_count": 12,
      "outputs": [
        {
          "output_type": "stream",
          "name": "stdout",
          "text": [
            "Книга з найбільшою кількістю відгуків: Where the Crawdads Sing\n"
          ]
        }
      ]
    },
    {
      "cell_type": "code",
      "source": [
        "most_expensive_2015 = books_df[books_df['Year'] == 2015].sort_values(by='Price', ascending=False).iloc[0]\n",
        "print('Найдорожча книга у 2015 році:', most_expensive_2015['Name'])\n"
      ],
      "metadata": {
        "colab": {
          "base_uri": "https://localhost:8080/"
        },
        "id": "hBKBGUYYsklj",
        "outputId": "c1b2275f-ec52-4c55-de48-c6c0f93b3457"
      },
      "execution_count": 14,
      "outputs": [
        {
          "output_type": "stream",
          "name": "stdout",
          "text": [
            "Найдорожча книга у 2015 році: Publication Manual of the American Psychological Association, 6th Edition\n"
          ]
        }
      ]
    },
    {
      "cell_type": "code",
      "source": [
        "fiction_books_2010 = books_df[(books_df['Year'] == 2010) & (books_df['Genre'] == 'Fiction')].shape[0]\n",
        "print('Кількість книг жанру Fiction у 2010 році:', fiction_books_2010)\n"
      ],
      "metadata": {
        "colab": {
          "base_uri": "https://localhost:8080/"
        },
        "id": "SgqDaKVXsseu",
        "outputId": "b85729f7-4946-4058-bc22-06572bc54ea1"
      },
      "execution_count": 15,
      "outputs": [
        {
          "output_type": "stream",
          "name": "stdout",
          "text": [
            "Кількість книг жанру Fiction у 2010 році: 20\n"
          ]
        }
      ]
    },
    {
      "cell_type": "code",
      "source": [
        "high_rating_books = books_df[(books_df['User Rating'] == 4.9) & ((books_df['Year'] == 2010) | (books_df['Year'] == 2011))].shape[0]\n",
        "print('Кількість книг з рейтингом 4.9 за 2010 та 2011 роки:', high_rating_books)\n"
      ],
      "metadata": {
        "colab": {
          "base_uri": "https://localhost:8080/"
        },
        "id": "loQ8AcERsxq2",
        "outputId": "f4effea8-b832-440c-9a27-5a044fa0f31f"
      },
      "execution_count": 16,
      "outputs": [
        {
          "output_type": "stream",
          "name": "stdout",
          "text": [
            "Кількість книг з рейтингом 4.9 за 2010 та 2011 роки: 1\n"
          ]
        }
      ]
    },
    {
      "cell_type": "code",
      "source": [
        "cheap_books_2015 = books_df[(books_df['Year'] == 2015) & (books_df['Price'] < 8)].sort_values(by='Price', ascending=True)\n",
        "print('Книга з найменшою ціною у 2015 році:', cheap_books_2015['Name'].iloc[-1])\n"
      ],
      "metadata": {
        "colab": {
          "base_uri": "https://localhost:8080/"
        },
        "id": "F11rfmAZs5KX",
        "outputId": "df42fc53-c866-4a2b-eddb-0e63ee5f0bcc"
      },
      "execution_count": 18,
      "outputs": [
        {
          "output_type": "stream",
          "name": "stdout",
          "text": [
            "Книга з найменшою ціною у 2015 році: Old School (Diary of a Wimpy Kid #10)\n"
          ]
        }
      ]
    },
    {
      "cell_type": "code",
      "source": [
        "price_by_genre = books_df.groupby('Genre')['Price'].agg(['max', 'min'])\n",
        "print(price_by_genre)\n"
      ],
      "metadata": {
        "colab": {
          "base_uri": "https://localhost:8080/"
        },
        "id": "YpDVOz_ptUEp",
        "outputId": "54ca481c-2033-428f-99df-c89e7a3c5503"
      },
      "execution_count": 20,
      "outputs": [
        {
          "output_type": "stream",
          "name": "stdout",
          "text": [
            "             max  min\n",
            "Genre                \n",
            "Fiction       82    0\n",
            "Non Fiction  105    0\n"
          ]
        }
      ]
    },
    {
      "cell_type": "code",
      "source": [
        "books_by_author = books_df.groupby('Author')['Name'].agg(['count'])\n",
        "print('Кількість книг для кожного автора:\\n', books_by_author)\n"
      ],
      "metadata": {
        "colab": {
          "base_uri": "https://localhost:8080/"
        },
        "id": "6rI8j1B-tcYT",
        "outputId": "16eec618-5e32-4a05-8c4e-0b485b8e89ec"
      },
      "execution_count": 21,
      "outputs": [
        {
          "output_type": "stream",
          "name": "stdout",
          "text": [
            "Кількість книг для кожного автора:\n",
            "                             count\n",
            "Author                           \n",
            "Abraham Verghese                2\n",
            "Adam Gasiewski                  1\n",
            "Adam Mansbach                   1\n",
            "Adir Levy                       1\n",
            "Admiral William H. McRaven      1\n",
            "...                           ...\n",
            "Walter Isaacson                 3\n",
            "William Davis                   2\n",
            "William P. Young                2\n",
            "Wizards RPG Team                3\n",
            "Zhi Gang Sha                    2\n",
            "\n",
            "[248 rows x 1 columns]\n"
          ]
        }
      ]
    },
    {
      "cell_type": "code",
      "source": [
        "average_rating_by_author = books_df.groupby('Author')['User Rating'].agg(['mean'])\n",
        "print('Середній рейтинг для кожного автора:\\n', average_rating_by_author)\n"
      ],
      "metadata": {
        "colab": {
          "base_uri": "https://localhost:8080/"
        },
        "id": "CdAkvO1ftlFs",
        "outputId": "3767b172-3cd0-4464-a058-9a017923541b"
      },
      "execution_count": 22,
      "outputs": [
        {
          "output_type": "stream",
          "name": "stdout",
          "text": [
            "Середній рейтинг для кожного автора:\n",
            "                                 mean\n",
            "Author                              \n",
            "Abraham Verghese            4.600000\n",
            "Adam Gasiewski              4.400000\n",
            "Adam Mansbach               4.800000\n",
            "Adir Levy                   4.800000\n",
            "Admiral William H. McRaven  4.700000\n",
            "...                              ...\n",
            "Walter Isaacson             4.566667\n",
            "William Davis               4.400000\n",
            "William P. Young            4.600000\n",
            "Wizards RPG Team            4.800000\n",
            "Zhi Gang Sha                4.600000\n",
            "\n",
            "[248 rows x 1 columns]\n"
          ]
        }
      ]
    },
    {
      "cell_type": "code",
      "source": [
        "author_stats = pd.concat([books_by_author, average_rating_by_author], axis=1)\n",
        "print('З\\'єднані авторські статистики:\\n', author_stats)\n"
      ],
      "metadata": {
        "colab": {
          "base_uri": "https://localhost:8080/"
        },
        "id": "BWZ5rAdMttFF",
        "outputId": "015f5cf6-718a-43e0-90ed-837b672143f8"
      },
      "execution_count": 23,
      "outputs": [
        {
          "output_type": "stream",
          "name": "stdout",
          "text": [
            "З'єднані авторські статистики:\n",
            "                             count      mean\n",
            "Author                                     \n",
            "Abraham Verghese                2  4.600000\n",
            "Adam Gasiewski                  1  4.400000\n",
            "Adam Mansbach                   1  4.800000\n",
            "Adir Levy                       1  4.800000\n",
            "Admiral William H. McRaven      1  4.700000\n",
            "...                           ...       ...\n",
            "Walter Isaacson                 3  4.566667\n",
            "William Davis                   2  4.400000\n",
            "William P. Young                2  4.600000\n",
            "Wizards RPG Team                3  4.800000\n",
            "Zhi Gang Sha                    2  4.600000\n",
            "\n",
            "[248 rows x 2 columns]\n"
          ]
        }
      ]
    },
    {
      "cell_type": "code",
      "source": [
        "sorted_authors = author_stats.sort_values(by=['count', 'mean'], ascending=[True, True])\n",
        "print('Перший автор у відсортованому списку:', sorted_authors.index[0])\n"
      ],
      "metadata": {
        "colab": {
          "base_uri": "https://localhost:8080/"
        },
        "id": "1NBdJ6YUtxE2",
        "outputId": "810373fa-f1ac-4ed5-e51c-887a359ae760"
      },
      "execution_count": 25,
      "outputs": [
        {
          "output_type": "stream",
          "name": "stdout",
          "text": [
            "Перший автор у відсортованому списку: Muriel Barbery\n"
          ]
        }
      ]
    },
    {
      "cell_type": "code",
      "source": [
        "%matplotlib inline\n",
        "import matplotlib.pyplot as plt\n",
        "import seaborn as sns\n",
        "import pandas as pd\n",
        "\n",
        "# Припустимо, 'books_df' це ваш датафрейм з даними про книги\n",
        "# books_df = pd.read_csv('your_file.csv')  # Замініть на вірний шлях до файлу\n",
        "\n",
        "# Графік 1: Стовпчикова діаграма кількості книг за жанрами\n",
        "sns.countplot(x='Genre', data=books_df)\n",
        "plt.title('Кількість книг за жанрами')\n",
        "plt.xlabel('Жанр')\n",
        "plt.ylabel('Кількість книг')\n",
        "plt.show()\n",
        "\n",
        "# Графік 2: Лінійний графік динаміки середньої ціни книг за роками\n",
        "books_df.groupby('Year')['Price'].mean().plot()\n",
        "plt.title('Динаміка середньої ціни книг за роками')\n",
        "plt.xlabel('Рік')\n",
        "plt.ylabel('Середня ціна')\n",
        "plt.show()\n",
        "\n",
        "# Графік 3: Боксплот рейтингів книг за жанрами\n",
        "sns.boxplot(x='Genre', y='User Rating', data=books_df)\n",
        "plt.title('Боксплот рейтингів книг за жанрами')\n",
        "plt.xlabel('Жанр')\n",
        "plt.ylabel('Рейтинг користувачів')\n",
        "plt.show()\n"
      ],
      "metadata": {
        "colab": {
          "base_uri": "https://localhost:8080/",
          "height": 1000
        },
        "id": "zD-PG3lkvPh-",
        "outputId": "8f212576-13e4-4264-d5b3-3663eb2b1a8a"
      },
      "execution_count": 30,
      "outputs": [
        {
          "output_type": "display_data",
          "data": {
            "text/plain": [
              "<Figure size 640x480 with 1 Axes>"
            ],
            "image/png": "[encoded data removed]"
          },
          "metadata": {}
        },
        {
          "output_type": "display_data",
          "data": {
            "text/plain": [
              "<Figure size 640x480 with 1 Axes>"
            ],
            "image/png": "[encoded data removed]"
          },
          "metadata": {}
        },
        {
          "output_type": "display_data",
          "data": {
            "text/plain": [
              "<Figure size 640x480 with 1 Axes>"
            ],
            "image/png": "[encoded data removed]"
          },
          "metadata": {}
        }
      ]
    }
  ]
}